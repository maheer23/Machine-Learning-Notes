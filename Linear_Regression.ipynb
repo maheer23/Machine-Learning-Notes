{
  "nbformat": 4,
  "nbformat_minor": 0,
  "metadata": {
    "colab": {
      "name": "Linear Regression.ipynb",
      "provenance": [],
      "collapsed_sections": [],
      "authorship_tag": "ABX9TyMBPorDtkSOdJdpZ+2HOxeu",
      "include_colab_link": true
    },
    "kernelspec": {
      "name": "python3",
      "display_name": "Python 3"
    },
    "accelerator": "GPU"
  },
  "cells": [
    {
      "cell_type": "markdown",
      "metadata": {
        "id": "view-in-github",
        "colab_type": "text"
      },
      "source": [
        "<a href=\"https://colab.research.google.com/github/maheer23/Machine-Learning-Notes/blob/main/Linear_Regression.ipynb\" target=\"_parent\"><img src=\"https://colab.research.google.com/assets/colab-badge.svg\" alt=\"Open In Colab\"/></a>"
      ]
    },
    {
      "cell_type": "code",
      "metadata": {
        "id": "zGtmTJPAm_Q3"
      },
      "source": [
        "import torch\n",
        "import torch.nn as nn\n",
        "\n",
        "import numpy as np\n",
        "import matplotlib.pyplot as plt"
      ],
      "execution_count": 1,
      "outputs": []
    },
    {
      "cell_type": "markdown",
      "metadata": {
        "id": "uUUDPU7VmW_S"
      },
      "source": [
        "### Simple Linear Regression:\n",
        "\n",
        "- Allows to understand the **Relationship** between two **Continuous Variables.**\n",
        "- **Examples:**\n",
        "    - x : Independent Variable\n",
        "        - Weight\n",
        "    - y : Dependent Variable\n",
        "        - Height\n",
        "- $y = \\alpha x + \\beta$\n",
        "\n",
        "### Aim of Linear Regression.\n",
        "\n",
        "- Minimize the distance between the points and the line ($y = \\alpha x + \\beta$).\n",
        "- Adjusting:\n",
        "    - Coefficient: $\\alpha$\n",
        "    - Bias/intercept: $\\beta$"
      ]
    },
    {
      "cell_type": "markdown",
      "metadata": {
        "id": "Qnikp_OUmW8u"
      },
      "source": [
        "## Building a Linear Regression Model with PyTorch:\n",
        "\n",
        "### Example\n",
        "\n",
        "- Coefficient: \\alpha = 2\n",
        "- Bias/intercept: \\beta = 1\n",
        "- Equation: y = 2x + 1\n",
        "\n",
        " \n",
        "\n",
        "### Building a Toy Dataset:"
      ]
    },
    {
      "cell_type": "code",
      "metadata": {
        "id": "BO4m3NO2mKYy",
        "outputId": "66a88ea5-d56b-4cd9-e9e0-c70a9c2b0a43",
        "colab": {
          "base_uri": "https://localhost:8080/"
        }
      },
      "source": [
        "# Creating a list of values from 0 to 11\n",
        "x = [i for i in range(11)]\n",
        "x"
      ],
      "execution_count": 2,
      "outputs": [
        {
          "output_type": "execute_result",
          "data": {
            "text/plain": [
              "[0, 1, 2, 3, 4, 5, 6, 7, 8, 9, 10]"
            ]
          },
          "metadata": {
            "tags": []
          },
          "execution_count": 2
        }
      ]
    },
    {
      "cell_type": "markdown",
      "metadata": {
        "id": "YbP22Hnam2Bu"
      },
      "source": [
        "**Convert a list of array into numpy arrays**"
      ]
    },
    {
      "cell_type": "code",
      "metadata": {
        "id": "1leMcLAWmlIg",
        "outputId": "7d3fea24-376d-4ed3-c2ec-938ed86dd977",
        "colab": {
          "base_uri": "https://localhost:8080/"
        }
      },
      "source": [
        "x_train = np.array(x,dtype= np.float32)\n",
        "\n",
        "x_train.shape"
      ],
      "execution_count": 3,
      "outputs": [
        {
          "output_type": "execute_result",
          "data": {
            "text/plain": [
              "(11,)"
            ]
          },
          "metadata": {
            "tags": []
          },
          "execution_count": 3
        }
      ]
    },
    {
      "cell_type": "markdown",
      "metadata": {
        "id": "KYA2lWytnW7j"
      },
      "source": [
        "**Convert into 2D array**\n",
        "If you don't this you will get an error stating you need 2D. Simply just reshape accordingly if you ever face such errors down the road."
      ]
    },
    {
      "cell_type": "code",
      "metadata": {
        "id": "enQt5js8nK5A",
        "outputId": "fe3217d5-5279-4a91-d555-1e7f419e44c2",
        "colab": {
          "base_uri": "https://localhost:8080/"
        }
      },
      "source": [
        "x_train = x_train.reshape(-1,1)\n",
        "\n",
        "x_train.shape"
      ],
      "execution_count": 4,
      "outputs": [
        {
          "output_type": "execute_result",
          "data": {
            "text/plain": [
              "(11, 1)"
            ]
          },
          "metadata": {
            "tags": []
          },
          "execution_count": 4
        }
      ]
    },
    {
      "cell_type": "markdown",
      "metadata": {
        "id": "OHlDlF8BpZcS"
      },
      "source": [
        "**Create a list of y values:**\n",
        "\n",
        "We want y values for every x value we have above.\n",
        "\n",
        "$y = 2x + 1$"
      ]
    },
    {
      "cell_type": "code",
      "metadata": {
        "id": "NhMvknrNpLi0",
        "outputId": "3b16119d-1278-4c8b-8f7f-9bc6045a22ec",
        "colab": {
          "base_uri": "https://localhost:8080/"
        }
      },
      "source": [
        "y = [(2*i+1) for i in x]\n",
        "\n",
        "y"
      ],
      "execution_count": 5,
      "outputs": [
        {
          "output_type": "execute_result",
          "data": {
            "text/plain": [
              "[1, 3, 5, 7, 9, 11, 13, 15, 17, 19, 21]"
            ]
          },
          "metadata": {
            "tags": []
          },
          "execution_count": 5
        }
      ]
    },
    {
      "cell_type": "markdown",
      "metadata": {
        "id": "8J_0RAHTqAeJ"
      },
      "source": [
        "**Convert it into NumPy Array and reshape to 2D:**"
      ]
    },
    {
      "cell_type": "code",
      "metadata": {
        "id": "LUqwghAbpQOm",
        "outputId": "5ca4e4e4-0311-41c0-d70d-31e28cd37ada",
        "colab": {
          "base_uri": "https://localhost:8080/"
        }
      },
      "source": [
        "y_train = np.array(y,dtype= np.float32)\n",
        "\n",
        "y_train = y_train.reshape(-1,1)\n",
        "\n",
        "y_train.shape"
      ],
      "execution_count": 6,
      "outputs": [
        {
          "output_type": "execute_result",
          "data": {
            "text/plain": [
              "(11, 1)"
            ]
          },
          "metadata": {
            "tags": []
          },
          "execution_count": 6
        }
      ]
    },
    {
      "cell_type": "markdown",
      "metadata": {
        "id": "EGGzGynlqYnn"
      },
      "source": [
        "### Building a Model:\n",
        "\n",
        "**Create Model:**\n",
        "\n",
        "1. Linear model\n",
        "    - True Equation: $y = 2x + 1$\n",
        "2. Forward\n",
        "    - Example\n",
        "        - Input $x = 1$\n",
        "        - Output $\\hat y = ?$"
      ]
    },
    {
      "cell_type": "code",
      "metadata": {
        "id": "itwYCe2uqLBs"
      },
      "source": [
        "class LinearRegression(nn.Module):\n",
        "  def __init__(self,input_dim, output_dim):\n",
        "    super(LinearRegression, self).__init__()\n",
        "    self.linear = nn.Linear(input_dim, output_dim)\n",
        "  \n",
        "  def forward(self, x):\n",
        "    out = self.linear(x)\n",
        "    return out"
      ],
      "execution_count": 7,
      "outputs": []
    },
    {
      "cell_type": "markdown",
      "metadata": {
        "id": "_-Luu1y_sT6E"
      },
      "source": [
        "**Insantiate Model class**:\n",
        "\n",
        "- input: [0, 1, 2, 3, 4, 5, 6, 7, 8, 9, 10]\n",
        "- desired output: [1, 3, 5, 7, 9, 11, 13, 15, 17, 19, 21]"
      ]
    },
    {
      "cell_type": "code",
      "metadata": {
        "id": "osNiKsq8r9_p"
      },
      "source": [
        "input_dim = 1\n",
        "output_dim = 1\n",
        "\n",
        "model = LinearRegression(input_dim, output_dim)"
      ],
      "execution_count": 8,
      "outputs": []
    },
    {
      "cell_type": "markdown",
      "metadata": {
        "id": "Z92BudhIsmOz"
      },
      "source": [
        "**Insantiate Loss class**\n",
        "\n",
        "- MSE Loss: Mean Squared Error\n",
        "- MSE = $\\frac{1}{n} \\sum_{i=1}^n(\\hat y_i - y_i)^2$\n",
        "    - $\\hat y$: prediction\n",
        "    - $y$: true value"
      ]
    },
    {
      "cell_type": "code",
      "metadata": {
        "id": "LhsUhdjysjZJ"
      },
      "source": [
        "criterion = nn.MSELoss()"
      ],
      "execution_count": 9,
      "outputs": []
    },
    {
      "cell_type": "markdown",
      "metadata": {
        "id": "3DqdWvlst56g"
      },
      "source": [
        "**Instantiate Optimizer Class:**\n",
        "\n",
        "- Simplified equation\n",
        "    - $\\theta = \\theta - \\eta \\cdot \\nabla_\\theta$\n",
        "        - $\\theta:$ parameters (our variables)\n",
        "        - $\\eta$: learning rate (how fast we want to learn)\n",
        "        - $\\nabla_\\theta$: parameters' gradients\n",
        "- Even simplier equation\n",
        "    - `parameters = parameters - learning_rate * parameters_gradients`\n",
        "        - parameters: $\\alpha$ and $\\beta$ in $y = \\alpha x + \\beta$\n",
        "        - desired parameters: $\\alpha = 2$ and $\\beta = 1$ in $y = 2x + 1$"
      ]
    },
    {
      "cell_type": "code",
      "metadata": {
        "id": "uPdMHtbOs_oY"
      },
      "source": [
        "learning_rate = 0.01\n",
        "\n",
        "optim = torch.optim.SGD(model.parameters(), lr = learning_rate)"
      ],
      "execution_count": 10,
      "outputs": []
    },
    {
      "cell_type": "markdown",
      "metadata": {
        "id": "jP4y1j0mvW6n"
      },
      "source": [
        "### Train a Model:\n",
        "\n",
        "1 epoch: going through the whole x_train data once\n",
        "\n",
        "- 100 epochs:\n",
        "    - 100x mapping `x_train = [0, 1, 2, 3, 4, 5, 6, 7, 8, 9, 10]`\n",
        "- **Process:**\n",
        "    1. Convert inputs/labels into tensors with gradients.\n",
        "    2. Clear Gradient Buffers.\n",
        "    3. Get outputs from given inputs.\n",
        "    4. Get the Loss.\n",
        "    5. Get Gradients w.r.t the Parameters.\n",
        "    6. Update the Parameters using Gradiens.\n",
        "\n",
        "        `parameters = parameters - learning_rate * parameters_gradients`\n",
        "\n",
        "    7. Repeat\n",
        "    "
      ]
    },
    {
      "cell_type": "markdown",
      "metadata": {
        "id": "FSFJaPQWw70u"
      },
      "source": [
        "**Use GPU for the model**"
      ]
    },
    {
      "cell_type": "code",
      "metadata": {
        "id": "Go6tFixuw6Sj"
      },
      "source": [
        "#device = torch.device('cuda' if torch.cuda.is_available else 'cpu')\n",
        "#model.to(device)"
      ],
      "execution_count": 11,
      "outputs": []
    },
    {
      "cell_type": "code",
      "metadata": {
        "id": "H4Ot_6YPt6lM",
        "outputId": "8d50c311-9b02-4bc9-b8c1-47d33d361074",
        "colab": {
          "base_uri": "https://localhost:8080/"
        }
      },
      "source": [
        "epochs = 100\n",
        "\n",
        "for epoch in range(epochs):\n",
        "  epoch+=1\n",
        "\n",
        "  # Convert numpt variable into tensor with gradients\n",
        "  # inputs = torch.from_numpy(x_train).to(device)\n",
        "  # labels = torch.from_numpy(y_train).to(device)\n",
        "\n",
        "  inputs = torch.from_numpy(x_train).requires_grad_()\n",
        "  labels = torch.from_numpy(y_train)\n",
        "\n",
        "  # clear the gradients w.r.t Paramters.\n",
        "  optim.zero_grad()\n",
        "\n",
        "  # Forward to get output:\n",
        "  output = model(inputs)\n",
        "\n",
        "  # Calcualte the loss\n",
        "  loss = criterion(output, labels)\n",
        "\n",
        "  # Getting Gradients w.r.t Parameters.\n",
        "  loss.backward()\n",
        "\n",
        "  # Update the Parameters.\n",
        "  optim.step()\n",
        "\n",
        "  # Logging\n",
        "  print('epoch {}, loss {}'.format(epoch, loss.item()))"
      ],
      "execution_count": 12,
      "outputs": [
        {
          "output_type": "stream",
          "text": [
            "epoch 1, loss 47.88352966308594\n",
            "epoch 2, loss 3.9125266075134277\n",
            "epoch 3, loss 0.32587307691574097\n",
            "epoch 4, loss 0.03324589878320694\n",
            "epoch 5, loss 0.009302987717092037\n",
            "epoch 6, loss 0.007276371121406555\n",
            "epoch 7, loss 0.007038334384560585\n",
            "epoch 8, loss 0.00694690179079771\n",
            "epoch 9, loss 0.006868313532322645\n",
            "epoch 10, loss 0.00679154135286808\n",
            "epoch 11, loss 0.006715713068842888\n",
            "epoch 12, loss 0.006640678737312555\n",
            "epoch 13, loss 0.006566544994711876\n",
            "epoch 14, loss 0.006493210792541504\n",
            "epoch 15, loss 0.00642069848254323\n",
            "epoch 16, loss 0.006348979193717241\n",
            "epoch 17, loss 0.006278103217482567\n",
            "epoch 18, loss 0.006207993254065514\n",
            "epoch 19, loss 0.0061386870220303535\n",
            "epoch 20, loss 0.006070141214877367\n",
            "epoch 21, loss 0.006002355832606554\n",
            "epoch 22, loss 0.005935305263847113\n",
            "epoch 23, loss 0.005869037937372923\n",
            "epoch 24, loss 0.005803501699119806\n",
            "epoch 25, loss 0.0057387021370232105\n",
            "epoch 26, loss 0.005674609448760748\n",
            "epoch 27, loss 0.0056112646125257015\n",
            "epoch 28, loss 0.005548568908125162\n",
            "epoch 29, loss 0.005486613139510155\n",
            "epoch 30, loss 0.0054253642447292805\n",
            "epoch 31, loss 0.005364785902202129\n",
            "epoch 32, loss 0.0053048827685415745\n",
            "epoch 33, loss 0.005245643202215433\n",
            "epoch 34, loss 0.005187066737562418\n",
            "epoch 35, loss 0.005129147320985794\n",
            "epoch 36, loss 0.005071843974292278\n",
            "epoch 37, loss 0.005015204660594463\n",
            "epoch 38, loss 0.004959212616086006\n",
            "epoch 39, loss 0.004903822671622038\n",
            "epoch 40, loss 0.004849083721637726\n",
            "epoch 41, loss 0.004794912412762642\n",
            "epoch 42, loss 0.004741386044770479\n",
            "epoch 43, loss 0.004688436631113291\n",
            "epoch 44, loss 0.004636077210307121\n",
            "epoch 45, loss 0.004584307782351971\n",
            "epoch 46, loss 0.004533131141215563\n",
            "epoch 47, loss 0.004482492338865995\n",
            "epoch 48, loss 0.004432434216141701\n",
            "epoch 49, loss 0.004382932558655739\n",
            "epoch 50, loss 0.004333994816988707\n",
            "epoch 51, loss 0.004285604227334261\n",
            "epoch 52, loss 0.004237750079482794\n",
            "epoch 53, loss 0.004190410487353802\n",
            "epoch 54, loss 0.004143623635172844\n",
            "epoch 55, loss 0.004097354132682085\n",
            "epoch 56, loss 0.004051597323268652\n",
            "epoch 57, loss 0.0040063317865133286\n",
            "epoch 58, loss 0.003961623180657625\n",
            "epoch 59, loss 0.003917372785508633\n",
            "epoch 60, loss 0.003873626934364438\n",
            "epoch 61, loss 0.0038303842302411795\n",
            "epoch 62, loss 0.0037876099813729525\n",
            "epoch 63, loss 0.003745333757251501\n",
            "epoch 64, loss 0.003703494556248188\n",
            "epoch 65, loss 0.003662143601104617\n",
            "epoch 66, loss 0.0036212352570146322\n",
            "epoch 67, loss 0.003580808872357011\n",
            "epoch 68, loss 0.003540800651535392\n",
            "epoch 69, loss 0.003501276718452573\n",
            "epoch 70, loss 0.003462179098278284\n",
            "epoch 71, loss 0.003423519665375352\n",
            "epoch 72, loss 0.0033852721098810434\n",
            "epoch 73, loss 0.00334748113527894\n",
            "epoch 74, loss 0.003310119267553091\n",
            "epoch 75, loss 0.00327315554022789\n",
            "epoch 76, loss 0.003236587392166257\n",
            "epoch 77, loss 0.0032004325184971094\n",
            "epoch 78, loss 0.003164703492075205\n",
            "epoch 79, loss 0.003129368182271719\n",
            "epoch 80, loss 0.003094407031312585\n",
            "epoch 81, loss 0.00305985938757658\n",
            "epoch 82, loss 0.0030256875324994326\n",
            "epoch 83, loss 0.002991895889863372\n",
            "epoch 84, loss 0.0029584961012005806\n",
            "epoch 85, loss 0.002925445791333914\n",
            "epoch 86, loss 0.0028927826788276434\n",
            "epoch 87, loss 0.002860488835722208\n",
            "epoch 88, loss 0.002828555181622505\n",
            "epoch 89, loss 0.002796970074996352\n",
            "epoch 90, loss 0.0027657262980937958\n",
            "epoch 91, loss 0.002734833164140582\n",
            "epoch 92, loss 0.0027043025474995375\n",
            "epoch 93, loss 0.002674124436452985\n",
            "epoch 94, loss 0.002644235035404563\n",
            "epoch 95, loss 0.0026147139724344015\n",
            "epoch 96, loss 0.0025855174753814936\n",
            "epoch 97, loss 0.0025566373951733112\n",
            "epoch 98, loss 0.002528091659769416\n",
            "epoch 99, loss 0.0024998446460813284\n",
            "epoch 100, loss 0.00247191172093153\n"
          ],
          "name": "stdout"
        }
      ]
    },
    {
      "cell_type": "markdown",
      "metadata": {
        "id": "Sg378skRyrpg"
      },
      "source": [
        "**Looking at the Predicted values**"
      ]
    },
    {
      "cell_type": "code",
      "metadata": {
        "id": "jMPF4BQYxTgM",
        "outputId": "71668371-baf9-4eab-ac18-c781e0b476ab",
        "colab": {
          "base_uri": "https://localhost:8080/"
        }
      },
      "source": [
        "# Purely inference\n",
        "predicted = model(torch.from_numpy(x_train).requires_grad_()).data.numpy()\n",
        "predicted"
      ],
      "execution_count": 14,
      "outputs": [
        {
          "output_type": "execute_result",
          "data": {
            "text/plain": [
              "array([[ 1.0924866],\n",
              "       [ 3.0791678],\n",
              "       [ 5.065849 ],\n",
              "       [ 7.0525303],\n",
              "       [ 9.039211 ],\n",
              "       [11.025892 ],\n",
              "       [13.012573 ],\n",
              "       [14.999254 ],\n",
              "       [16.985935 ],\n",
              "       [18.972618 ],\n",
              "       [20.9593   ]], dtype=float32)"
            ]
          },
          "metadata": {
            "tags": []
          },
          "execution_count": 14
        }
      ]
    },
    {
      "cell_type": "markdown",
      "metadata": {
        "id": "b5o7CJU1zVrL"
      },
      "source": [
        "**Plot of Predicted and Actual Values:**"
      ]
    },
    {
      "cell_type": "code",
      "metadata": {
        "id": "B_CSFNtSy9T0",
        "outputId": "fd26fcdc-0097-4988-b281-394c0e66cb40",
        "colab": {
          "base_uri": "https://localhost:8080/",
          "height": 265
        }
      },
      "source": [
        "# Clear Figure:\n",
        "plt.clf()\n",
        "\n",
        "# Plot True Data\n",
        "plt.plot(x_train, y_train, 'go', label = 'True Data', alpha = 0.5)\n",
        "\n",
        "# PLot predictions\n",
        "plt.plot(x_train, predicted, '--', label = 'Predictions', alpha = 0.5)\n",
        "\n",
        "# Legend and plot\n",
        "plt.legend(loc = 'best')\n",
        "plt.show()"
      ],
      "execution_count": 15,
      "outputs": [
        {
          "output_type": "display_data",
          "data": {
            "image/png": "[encoded data removed]",
            "text/plain": [
              "<Figure size 432x288 with 1 Axes>"
            ]
          },
          "metadata": {
            "tags": [],
            "needs_background": "light"
          }
        }
      ]
    },
    {
      "cell_type": "markdown",
      "metadata": {
        "id": "7Qu1H3681QNT"
      },
      "source": [
        "**Save Model:**"
      ]
    },
    {
      "cell_type": "code",
      "metadata": {
        "id": "YuEVOHLgziKs"
      },
      "source": [
        "save_model = False\n",
        "if save_model is True:\n",
        "  # Saves only parameters\n",
        "    # alpha & beta\n",
        "    torch.save(model.state_dict(),'model.pkl')"
      ],
      "execution_count": 16,
      "outputs": []
    },
    {
      "cell_type": "markdown",
      "metadata": {
        "id": "Pm-F7TRu1g4x"
      },
      "source": [
        "**Load Model:**"
      ]
    },
    {
      "cell_type": "code",
      "metadata": {
        "id": "tuAJcdW51gHs"
      },
      "source": [
        "load_model = False\n",
        "if load_model is True:\n",
        "  model.load_state_dict(torch.load('model.pkl'))"
      ],
      "execution_count": 17,
      "outputs": []
    },
    {
      "cell_type": "markdown",
      "metadata": {
        "id": "dUuTt6nJ15eY"
      },
      "source": [
        "## Summary:\n",
        "\n",
        "* Simple linear regression basics\n",
        "  * y = Ax + B\n",
        "  * y = 2x + 1\n",
        "* Example of simple linear regression\n",
        "* Aim of linear regression\n",
        "  * Minimizing distance between the points and the line\n",
        "    * Calculate \"distance\" through `MSE`\n",
        "    * Calculate `gradients`\n",
        "    * Update parameters with `parameters = parameters - learning_rate * gradients`\n",
        "    * Slowly update parameters A and B model the linear relationship between y and x of the form y = 2x + 1\n",
        "* Built a linear regression model in CPU and GPU\n",
        "  * Step 1: Create Model Class\n",
        "  * Step 2: Instantiate Model Class\n",
        "  * Step 3: Instantiate Loss Class\n",
        "  * Step 4: Instantiate Optimizer Class\n",
        "  * Step 5: Train Model\n",
        "* Important things to be on GPU\n",
        "  * model\n",
        "  * tensors with gradients\n",
        "* How to bring to GPU?\n",
        "  * `model_name.to(device)`\n",
        "  * `variable_name.to(device`"
      ]
    },
    {
      "cell_type": "code",
      "metadata": {
        "id": "dKg6HAEr44Y2"
      },
      "source": [
        ""
      ],
      "execution_count": null,
      "outputs": []
    }
  ]
}